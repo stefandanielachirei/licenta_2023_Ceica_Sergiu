{
  "cells": [
    {
      "cell_type": "markdown",
      "metadata": {
        "id": "view-in-github",
        "colab_type": "text"
      },
      "source": [
        "<a href=\"https://colab.research.google.com/github/stefandanielachirei/licenta_2023_Ceica_Sergiu/blob/main/01_Intro_to_Jupyter.ipynb\" target=\"_parent\"><img src=\"https://colab.research.google.com/assets/colab-badge.svg\" alt=\"Open In Colab\"/></a>"
      ]
    },
    {
      "cell_type": "markdown",
      "metadata": {
        "id": "fcwfRaAVvSNA"
      },
      "source": [
        "# Part I: Introduction to Jupyter Notebook\n",
        "\n",
        "Welcome to the Jupyter Notebook! In this tutorial, we will take you step-by-step through basic coding concepts that we will leverage and build upon in subsequent data analysis tutorials. This is meant to be an introductory notebook, so coding experience is NOT required. We encourage you to work through the material with an experimental mindset - practice and curiosity are the keys to success! Feel free to add additional code blocks to try things out on your own.\n",
        "\n",
        "## Table of Contents:\n",
        "1. [The Jupyter Notebook](#jupyter)\n",
        "2. [Expressions](#expr)\n",
        "3. [Variables](#vars)\n",
        "4. [Variables vs. Strings](#str)\n",
        "5. [Boolean Values & Expressions](#bool)\n",
        "6. [Conditional Statements](#ifs)\n",
        "7. [Defining a Function](#func)\n",
        "8. [Understanding Errors](#error)\n",
        "\n",
        "---\n",
        "\n"
      ]
    },
    {
      "cell_type": "markdown",
      "metadata": {
        "id": "iQGSzjyZvSNC"
      },
      "source": [
        "## 1. The Jupyter Notebook<a id='jupyter'></a>\n",
        "\n",
        "\n",
        "A Jupyter Notebook is divided into what are called *cells*. You can navigate cells by clicking on them or by using the up and down arrows. Cells will be highlighted as you navigate them.\n",
        "\n",
        "### Markdown cells\n",
        "\n",
        "Text cells (like this one) can be edited by double-clicking on them. They're written in a simple format called [Markdown](http://daringfireball.net/projects/markdown/syntax) to add formatting and section headings. It can also render HTML since Markdown is a superset of HTML; you will often see HTML tags in the Markdown cells of this notebook. You don't need to learn Markdown, but know the difference between Text Cells and Code Cells.\n",
        "\n",
        "### Code cells\n",
        "Other cells, like the one below, contain code in the Python 3 language. The fundamental building block of Python code is an **expression**. Cells can contain multiple lines with multiple expressions. We'll explain what exactly we mean by \"expressions\" in just a moment - first, let's learn how to \"run\" cells."
      ]
    },
    {
      "cell_type": "code",
      "execution_count": null,
      "metadata": {
        "id": "h6TTti1PvSNC"
      },
      "outputs": [],
      "source": [
        "# This is a code cell!\n",
        "print(\"Hello, World! \\N{EARTH GLOBE ASIA-AUSTRALIA}\")"
      ]
    },
    {
      "cell_type": "markdown",
      "metadata": {
        "id": "hGcBxfaDvSND"
      },
      "source": [
        ">*Note: code cells, like the one above, can contain **`# comments`**. Comments are not code but notes that we can leave inline with the code to help us while writing or reviewing code. In Python, you can enter a comment after a pound `#` - everthing after the `#` will be considered a note.*\n",
        "\n",
        "\n",
        "### Running cells\n",
        "\n",
        "\"Running a cell\" is equivalent to pressing \"Enter\" on a calculator once you've typed in the expression you want to evaluate: it produces a result. When you run a text cell, it outputs clean, organized writing. When you run a code cell, it **computes** all of the expressions you want to evaluate, and can **output** the result of the computation if there is anything to return.\n",
        "\n",
        "<p></p>\n",
        "\n",
        "<div class=\"alert alert-warning\">\n",
        "<i class=\"fa fa-info-circle\" style=\"font-size:22px;color:orange\"></i> &nbsp; <b>To run the code in a cell</b>, first click on that cell.  It'll become highlighted with a green or blue border.  Next, you can either click the <code><b>▶</b> Run </code> button above, or press <b><code>Shift + Return</code></b> / <b><code>Shift + Enter</code></b>. This will run the current cell and select the next one.</div>\n",
        "\n",
        "Text cells are useful for taking notes and keeping your notebook organized, but your data analysis will be done in code cells. We will focus on code cells for the remainder of the notebook.\n",
        "\n",
        "</div>\n",
        "\n",
        "<span style='color:#4169E1'>**Try running the code cell above, if you haven't already!**</span>\n"
      ]
    },
    {
      "cell_type": "markdown",
      "metadata": {
        "id": "HG8Hq4D6vSNE"
      },
      "source": [
        "### Adding / Deleting Cells\n",
        "\n",
        "You can **add** a cell above or below a currently highlighted cell, by navigating to **`Insert` &rarr; `Insert Cell Above`/`Below`**. The default cell type will be a code cell. You can change the cell type by keeping the cell highlighted and navigating to **`Cell` &rarr; `Cell Type` &rarr; `Code`/`Markdown`**.\n",
        "\n",
        "Alternatively, you can highlight a cell (without double-clicking into the cell itself) and hit the `a` key to insert a cell above, or `b` key to insert a cell below. To change the cell type, hit `m` while the cell is highlighted to change to a Markdown cell, or hit `y` to change to a code cell.\n",
        "\n",
        "<div class=\"alert alert-info\"><span style='color:#4169E1'><b>Try inserting a code cell...</b><br>  \n",
        "between here &darr;:</span></div>\n"
      ]
    },
    {
      "cell_type": "markdown",
      "metadata": {
        "id": "fO1HrqwzvSNF"
      },
      "source": [
        "<div class=\"alert alert-info\"><span style='color:#4169E1'>&ensp;&ensp;&nbsp;...and here &uarr;</span></div>\n",
        "\n",
        "You can **delete** a highlighted cell by going to `Edit` &rarr; `Delete Cells`, or simply hitting the `d` keyboard key twice.  \n",
        "<span style='color:#4169E1'>**Try deleting the cell you created just above.**</span>\n",
        "\n",
        "You can **undo** a cell deletion by going to `Edit` &rarr; `Undo Delete Cells`, or simply hitting the `z` keyboard key.  \n",
        "<span style='color:#4169E1'>**Try bringing back the cell you've just deleted.**</span>\n",
        "\n",
        "Now that we have a basic understanding of how to use a Jupyter Notebook, we'll shift our focus to coding within code cells.\n",
        "\n",
        "---\n",
        "\n"
      ]
    },
    {
      "cell_type": "markdown",
      "metadata": {
        "id": "i9Xazre2vSNF"
      },
      "source": [
        "## 2. Expressions<a id='expr'></a>\n",
        "\n",
        "An expression is a combination of numbers, variables, operators, and/or other Python elements that the language interprets and acts upon. Expressions act as a set of **instructions** to be followed, with the goal of generating specific outcomes.\n",
        "\n",
        "\n",
        "### Arithmetic\n",
        "You can start by thinking of code cells as fancy calculators that computes these expressions. For instance, code cells can evaluate simple arithmetic:"
      ]
    },
    {
      "cell_type": "code",
      "execution_count": null,
      "metadata": {
        "id": "Vy96DW-mvSNF"
      },
      "outputs": [],
      "source": [
        "# Run me!\n",
        "# This is an expression\n",
        "10 + 10"
      ]
    },
    {
      "cell_type": "code",
      "execution_count": null,
      "metadata": {
        "id": "bGal0FIUvSNG"
      },
      "outputs": [],
      "source": [
        "# Run me too!\n",
        "# This is another expression\n",
        "(10 + 10) / 5"
      ]
    },
    {
      "cell_type": "markdown",
      "metadata": {
        "id": "Dpx9_O09vSNG"
      },
      "source": [
        "Below are some basic arithmetic operators that are built into Python:\n",
        "\n",
        "|Operation|Operator|Example|Result|\n",
        "|:-|:-|:-|:-|\n",
        "|Addition|`+`|`1 + 2`|`3`|\n",
        "|Subtraction|`-`|`1 - 2`|`-1`|\n",
        "|Multiplication|`*`|`2 * 3`|`6`|\n",
        "|Division|`/`|`10 / 3`|`3.3333`|\n",
        "|Remainder|`%`|`10 % 3`|`1`|\n",
        "|Exponentiation|`**`|`2 ** 3`|`8`|\n",
        "\n",
        "The orders of operations are the same as we learned in elementary math classes (PEMDAS). Just like in mathematical expressions, parentheses can be used to group together smaller expressions within larger expressions. Observe the difference in the results of the following two expressions:"
      ]
    },
    {
      "cell_type": "code",
      "execution_count": null,
      "metadata": {
        "id": "tx851IysvSNG"
      },
      "outputs": [],
      "source": [
        "# Expression 1\n",
        "1 + 2 * 3 * 4 * 5 / 6 ** 3 + 7 - 8 - 9 + 10 + 11 + 12"
      ]
    },
    {
      "cell_type": "code",
      "execution_count": null,
      "metadata": {
        "id": "kcHwIcdJvSNG"
      },
      "outputs": [],
      "source": [
        "# Expression 2\n",
        "1 + 2 * (3 * 4 * 5 / 6) ** 3 + 7 - 8 - 9 + 10 + 11 + 12"
      ]
    },
    {
      "cell_type": "markdown",
      "metadata": {
        "id": "f4yhGp3OvSNH"
      },
      "source": [
        "This is what they would look like in standard notation:\n",
        "\n",
        "Expression 1: $1 + 2 \\times 3 \\times 4 \\times 5 \\div 6^3 + 7 - 8 - 9 + 10 + 11 + 12$\n",
        "\n",
        "Expression 2: $1 + 2 \\times (\\frac{3 \\times 4 \\times 5}{6})^3 + 7 - 8 - 9 + 10 + 11 + 12$"
      ]
    },
    {
      "cell_type": "markdown",
      "metadata": {
        "id": "2GaV81wDvSNH"
      },
      "source": [
        "### Call Expressions\n",
        "\n",
        "Another important type of expression is the **call expression**. A call expression \"calls\" on a **function** to be executed on specified input value(s), and often returns a value depending on these inputs. We call the values we put into functions the **arguments** of a function. As we'll discuss more later on, a **function** is a compuational process that is given a name, so that the process can easily be used.\n",
        "\n",
        "Here are some commonly used mathematical functions:\n",
        "\n",
        "|Function|Example|Value|Description|\n",
        "|:-:|:-|:-:|:-|\n",
        "|`abs`|`abs(-5)`|`5`| Takes the absolute value of the argument|\n",
        "|`max`|`max(5, 13, -9, 2)`|`13`| Finds the maximum value of all arguments|\n",
        "|`min`|`min(5, 13, -9, 2)`|`-9`| Finds the minimum value of all arguments|\n",
        "|`round`|`round(5.435)`|`5`| Rounds its argument to the nearest integer|\n",
        "\n",
        "Here are two call expressions that both evaluate to 3:"
      ]
    },
    {
      "cell_type": "code",
      "execution_count": null,
      "metadata": {
        "id": "cMDbNADDvSNH"
      },
      "outputs": [],
      "source": [
        "abs(2 - 5)"
      ]
    },
    {
      "cell_type": "code",
      "execution_count": null,
      "metadata": {
        "id": "7UDvaNqkvSNH"
      },
      "outputs": [],
      "source": [
        "min(round(4.32), max(2, abs(3-4) + round(5/3)), 7)"
      ]
    },
    {
      "cell_type": "markdown",
      "metadata": {
        "id": "58NY3F7jvSNH"
      },
      "source": [
        "## 3. Variables<a id='vars'></a>\n",
        "\n",
        "---\n",
        "\n",
        "In natural language, we have terminology that lets us quickly reference very complicated concepts. We don't say, \"That's a large mammal with brown fur and sharp teeth!\" Instead, we just say, \"Bear!\"\n",
        "\n",
        "In Python, we do this with assignment statements. An assignment statement has a name on the left side of an `=` sign and an expression to be evaluated on the right. The name we assign to the expression is called a **variable**. Just like in your standard algebra class, you can assign the letter `x` to be 10. You can assign letter `y` to be 5. You can then add variables `x` and `y` to get 15."
      ]
    },
    {
      "cell_type": "code",
      "execution_count": null,
      "metadata": {
        "id": "S648A289vSNH"
      },
      "outputs": [],
      "source": [
        "#this won't output anything: you're just telling the cell to set x to 10\n",
        "x = 10"
      ]
    },
    {
      "cell_type": "code",
      "execution_count": null,
      "metadata": {
        "id": "IYqT7AuPvSNH"
      },
      "outputs": [],
      "source": [
        "y = 5"
      ]
    },
    {
      "cell_type": "code",
      "execution_count": null,
      "metadata": {
        "id": "Fe6NymqYvSNI"
      },
      "outputs": [],
      "source": [
        "#This will output the answer to the addition: you're asking it to compute the number\n",
        "x + y"
      ]
    },
    {
      "cell_type": "markdown",
      "metadata": {
        "id": "ym5rE4YPvSNI"
      },
      "source": [
        "In algebra class, you were limited to using the letters of the alphabet as variable names. Here, you can use any combination of words **as long as there are no spaces in the names:**"
      ]
    },
    {
      "cell_type": "code",
      "execution_count": null,
      "metadata": {
        "id": "nDRLdZzsvSNI"
      },
      "outputs": [],
      "source": [
        "quarter = 1/4\n",
        "quarter"
      ]
    },
    {
      "cell_type": "markdown",
      "metadata": {
        "id": "gYDQUuQevSNI"
      },
      "source": [
        "A previously assigned name can be used in the expression to the right of `=`. Python evaluates the expression to the right of `=` first, then assigns the resulting value to the variable."
      ]
    },
    {
      "cell_type": "code",
      "execution_count": null,
      "metadata": {
        "id": "sKVqDo74vSNI"
      },
      "outputs": [],
      "source": [
        "half = 2 * quarter\n",
        "half"
      ]
    },
    {
      "cell_type": "markdown",
      "metadata": {
        "id": "P87_dULovSNI"
      },
      "source": [
        "You can **redefine** variables you have used before to hold **new** values; in other words, you can overwrite the old values. If you run the following cell, `x` and `y` will now hold a different values:"
      ]
    },
    {
      "cell_type": "code",
      "execution_count": null,
      "metadata": {
        "id": "N5Y8oMf-vSNI"
      },
      "outputs": [],
      "source": [
        "# You can put all of the different expressions above into one code cell.\n",
        "# When you run this code cell, everything will be evaluated in order, from top to bottom.\n",
        "x = 3\n",
        "y = 8\n",
        "x_plus_y = x + y\n",
        "x_plus_y"
      ]
    },
    {
      "cell_type": "markdown",
      "metadata": {
        "id": "Gtx76Bm_vSNI"
      },
      "source": [
        "However, variables defined in terms of another variable (e.g. `half` defined in terms of `quarter`) will **not** change automatically just because a variable in a previously evaluated expression has later changed its value:"
      ]
    },
    {
      "cell_type": "code",
      "execution_count": null,
      "metadata": {
        "id": "hwX_TYnwvSNI"
      },
      "outputs": [],
      "source": [
        "# even though `quarter` now carries a new value, the value of `half` does not automatically change\n",
        "# here we set `quarter` to a new value\n",
        "quarter = 4\n",
        "\n",
        "# and return the value of `half`\n",
        "half"
      ]
    },
    {
      "cell_type": "markdown",
      "metadata": {
        "id": "jR1dO4aTvSNJ"
      },
      "source": [
        "Recall that when `half` was defined earlier, `quarter` was assigned the value 0.25. Because expressions to the right of `=` are evaluated first before variable assignment, `2 * quarter` was evaluated to 0.5, and `half` was assigned this value of 0.5. It does not remain dependent on the variable name `quarter`.\n",
        "\n",
        "So, even though `quarter` later changed its value, it doesn't change the fact that `half` was assigned 0.5, and `half` continues to represent 0.5."
      ]
    },
    {
      "cell_type": "markdown",
      "metadata": {
        "id": "x9S60lSGvSNJ"
      },
      "source": [
        "\n",
        "\n",
        "<div class=\"alert alert-info\"><span style='color:#4169E1'><b>You Try:</b> What should be the answer to <b>\"6 times <code>half</code> plus <code>x_plus_y</code>\"</b>? </span></div>"
      ]
    },
    {
      "cell_type": "code",
      "execution_count": null,
      "metadata": {
        "id": "oWsGC-IjvSNJ"
      },
      "outputs": [],
      "source": [
        "# YOUR CODE HERE"
      ]
    },
    {
      "cell_type": "markdown",
      "metadata": {
        "id": "limiuqjsvSNJ"
      },
      "source": [
        "Does your answer make sense?"
      ]
    },
    {
      "cell_type": "markdown",
      "metadata": {
        "id": "bmJqQmEsvSNJ"
      },
      "source": [
        "## 4. Variables vs. Strings<a id='str'></a>\n",
        "\n",
        "---\n",
        "\n",
        "In the section above, we understood that `quarter` is a variable to which we have assigned a numeric value. However, as soon as we put quotes around the word, Python understands it as an entirely different object - _\"quarter\"_ is now a piece of textual data, or a **string**. A string is a type of value, just like numbers are values, that is made up of a sequence of characters. Strings can represent a single character, a word, a sentence, or the contents of an entire book.\n"
      ]
    },
    {
      "cell_type": "code",
      "execution_count": null,
      "metadata": {
        "id": "GW_3POm_vSNJ"
      },
      "outputs": [],
      "source": [
        "# This is a string, not a variable\n",
        "\"quarter\""
      ]
    },
    {
      "cell_type": "code",
      "execution_count": null,
      "metadata": {
        "id": "ydW084nxvSNJ"
      },
      "outputs": [],
      "source": [
        "# Another string\n",
        "\"Woohoo!\""
      ]
    },
    {
      "cell_type": "code",
      "execution_count": null,
      "metadata": {
        "id": "Uqx0K0eHvSNJ"
      },
      "outputs": [],
      "source": [
        "\"Strings can capture long bodies of text\""
      ]
    },
    {
      "cell_type": "markdown",
      "metadata": {
        "id": "fDlJ9_CxvSNJ"
      },
      "source": [
        "The meaning of an expression depends both upon its structure and the types of values that are being combined. So, for instance, adding two strings together produces another string. This expression is still an addition, but the result of adding strings is different from the result of adding numbers:"
      ]
    },
    {
      "cell_type": "code",
      "execution_count": null,
      "metadata": {
        "id": "y4nEJ5b_vSNK"
      },
      "outputs": [],
      "source": [
        "# I output a combined string:\n",
        "\"123\" + \"456\""
      ]
    },
    {
      "cell_type": "code",
      "execution_count": null,
      "metadata": {
        "id": "6dAjiUWKvSNK"
      },
      "outputs": [],
      "source": [
        "# I output the result of adding two numbers:\n",
        "123 + 456"
      ]
    },
    {
      "cell_type": "markdown",
      "metadata": {
        "id": "x64uoEDPvSNK"
      },
      "source": [
        "What if we try to type a random word in a code cell **without** putting it in quotes?"
      ]
    },
    {
      "cell_type": "code",
      "execution_count": null,
      "metadata": {
        "id": "-p2cNU9YvSNK"
      },
      "outputs": [],
      "source": [
        "#This will Error!\n",
        "Woohoo"
      ]
    },
    {
      "cell_type": "markdown",
      "metadata": {
        "id": "Syq0Xkc3vSNK"
      },
      "source": [
        "It throws out an error! Why? Because code cells will consider any word **not** in quotes to be a **Python object**, like a variable, that stores some sort of information. In this notebook, we haven't told it what `Woohoo` means -- it's just an empty variable holding no information, so it complains and says, \"I don't know what `Woohoo` is supposed to be.\""
      ]
    },
    {
      "cell_type": "markdown",
      "metadata": {
        "id": "qHn-7MvcvSNK"
      },
      "source": [
        "## 5. Boolean Values & Expressions<a id='bool'></a>\n",
        "---\n",
        "\n",
        "A Boolean is another data type, and it can carry one of only two values - `True` or `False`. They often arise when two values are compared against each other:\n"
      ]
    },
    {
      "cell_type": "code",
      "execution_count": null,
      "metadata": {
        "id": "FTEJwGB0vSNK"
      },
      "outputs": [],
      "source": [
        "# expression: '10 is greater than 1'\n",
        "10 > 1"
      ]
    },
    {
      "cell_type": "code",
      "execution_count": null,
      "metadata": {
        "id": "DPz6qqMJvSNL"
      },
      "outputs": [],
      "source": [
        "# expression: '10 is equal to 1'\n",
        "10 == 1"
      ]
    },
    {
      "cell_type": "markdown",
      "metadata": {
        "id": "n3_PBM6lvSNL"
      },
      "source": [
        "The value `True` indicates that the statement is accurate. In the above, Python has confirmed the simple statement that 10 is greater than 1; and that 10 is not, in fact, equal to 1.\n",
        "\n",
        "Here are some common comparison operators:\n",
        "\n",
        "|Operation|Operator|Result: True|Result: False|\n",
        "|-|:-:|:-:|:-:|\n",
        "|Equal to|==|1.3 == 1.3|1.3 == 1|\n",
        "|Not equal to|!=|1.3 != 1|1 != 1|\n",
        "|Less than|<|5 < 10|5 < 5|\n",
        "|Less than or equal|<=|5 <= 5|10 <= 5|\n",
        "Greater than|>|10 > 5|5 > 10|\n",
        "|Greater or equal|>=|5 >= 5|5 >= 10|\n"
      ]
    },
    {
      "cell_type": "markdown",
      "metadata": {
        "id": "LB0Vs-AmvSNL"
      },
      "source": [
        "<div class=\"alert alert-info\"><span style='color:#4169E1'><b>You Try:</b> An apple, a lemon, and a pack of strawberries each cost \\$0.79, \\$0.24, and \\$3.49, respectively. If I set out to purchase 2 apples, 6 lemons, and 2 strawberries, would \\$10 be enough to cover the total cost? Use a boolean operator to output a <code>True</code> or <code>False</code> answer below:</span></div>"
      ]
    },
    {
      "cell_type": "code",
      "execution_count": null,
      "metadata": {
        "id": "j7ZkAEL3vSNL"
      },
      "outputs": [],
      "source": [
        "apple = 0.79\n",
        "lemon = 0.24\n",
        "strawberries = 3.49\n",
        "\n",
        "# YOUR CODE HERE\n",
        "# ..."
      ]
    },
    {
      "cell_type": "markdown",
      "metadata": {
        "id": "XTt60OJqvSNL"
      },
      "source": [
        "### Numeric value of Booleans  \n",
        "\n",
        "Different data type values actually represent different boolean values. For instance:\n",
        "    \n",
        "- <b>Numbers:</b><br>\n",
        "&nbsp;&nbsp;&nbsp; <b>`0`</b> is evaluated to: `False`   \n",
        "&nbsp;&nbsp;&nbsp; any non-zero number is evaluated to: `True`\n",
        "<br>    \n",
        "    \n",
        "- <b>Strings:</b><br>\n",
        "&nbsp;&nbsp;&nbsp; <b>`''`</b> (an empty string) is evaluated to: `False`  \n",
        "&nbsp;&nbsp;&nbsp; any non-empty string is evaluated to: `True`\n",
        "\n"
      ]
    },
    {
      "cell_type": "markdown",
      "metadata": {
        "id": "V316CKhQvSNL"
      },
      "source": [
        "### Boolean Operators: And, Or, Not\n",
        "\n",
        "We can combine multiple True/False expressions to compose a broader True/False statement, much like we do in natural conversation:  \n",
        ">Question: &nbsp;\"You played tennis **AND** went running today?\"   \n",
        ">Answer: &nbsp;&nbsp;&nbsp;\"**No,** I didn't play tennis today.\"  \n",
        "><span style='color:gray'>Meaning: *The statement is False, because I didn't do both those things*</span>\n",
        "\n",
        ">Question: &nbsp;\"Do you want me to make you a smoothie **or** a milkshake?\"  \n",
        ">Answer:  &nbsp;&nbsp;&nbsp;\"**Yes,** please; a smoothie sounds fantastic!\"  \n",
        "><span style='color:gray'>Meaning: *The statement is True, because I want at least one of those things*</span>\n",
        "\n",
        "The question/answer format doesn't work well for the case of negation, but luckily this one is quite straightforward - putting a `not` in front of a True/False expression negates the expression - \"not True\" means False, and \"not False\" means True.   \n",
        ">Simply:  &nbsp;\"That is **not** True.\"  \n",
        ">Expression being negated: \"That is True\"  \n",
        "><span style='color:gray'>Meaning of the statement: <i>\"That is False\"</i></span>\n",
        "\n",
        "<br>\n",
        "\n",
        "Let's explore these in the code cells below:\n",
        "\n",
        "**1. `and, &` Operator:**  \n",
        ">Evaluates to `True` if and only if all expressions evaluate to `True` - in other words:  \n",
        ">&nbsp;&nbsp;&nbsp; - Statement is <u>True</u> if **no expression** evaluates to <u>False</u>  \n",
        ">&nbsp;&nbsp;&nbsp; - Statement is <u>False</u> if **at least 1 expression** evaluates to <u>False</u>"
      ]
    },
    {
      "cell_type": "code",
      "execution_count": null,
      "metadata": {
        "id": "ajjllDn4vSNL"
      },
      "outputs": [],
      "source": [
        "# False, because there is 1 False expression\n",
        "True and True and True and True and True and False and True"
      ]
    },
    {
      "cell_type": "code",
      "execution_count": null,
      "metadata": {
        "id": "xxOgu6EKvSNL"
      },
      "outputs": [],
      "source": [
        "# first expression is false, so it is not the case that both expr1 and expr2 are True,\n",
        "# so this evaluates to False\n",
        "\n",
        "# False and True --> False\n",
        "(10<5) and (4%2==0)"
      ]
    },
    {
      "cell_type": "code",
      "execution_count": null,
      "metadata": {
        "id": "eGR9wZxOvSNM"
      },
      "outputs": [],
      "source": [
        "# first AND second AND third expressions are all True --> True\n",
        "# True and True and True\n",
        "(7%2!=0) & (5-9<0) & (9==3+7-1)"
      ]
    },
    {
      "cell_type": "markdown",
      "metadata": {
        "id": "HQHjImUnvSNM"
      },
      "source": [
        "**2. `or, |` Operator:**  \n",
        ">If one expression is `True`, then the entire expression evaluates to `True` - in other words:  \n",
        ">&nbsp;&nbsp;&nbsp; - Statement is <u>True</u> if **at least 1 expression** evaluates to <u>True</u>  \n",
        ">&nbsp;&nbsp;&nbsp; - Statement is <u>False</u> if **no expression** evaluates to <u>True</u>  \n"
      ]
    },
    {
      "cell_type": "code",
      "execution_count": null,
      "metadata": {
        "id": "DkbJKGQnvSNM"
      },
      "outputs": [],
      "source": [
        "# True, as long as there is 1 True statement\n",
        "False or False or False or False or False or True or False"
      ]
    },
    {
      "cell_type": "code",
      "execution_count": null,
      "metadata": {
        "id": "aKym0RF1vSNM"
      },
      "outputs": [],
      "source": [
        "# neither left nor right expressions are True; overall expression is False\n",
        "# False or False --> False\n",
        "(10<5) or (8==9)"
      ]
    },
    {
      "cell_type": "code",
      "execution_count": null,
      "metadata": {
        "id": "Yqk8GhHbvSNM"
      },
      "outputs": [],
      "source": [
        "# second expression evaluates to True, so overall expression is True\n",
        "# False or True --> True\n",
        "(10<5) | (4%2==0)"
      ]
    },
    {
      "cell_type": "markdown",
      "metadata": {
        "id": "woEzsdw7vSNM"
      },
      "source": [
        "**3. `not, ~` Operator:**  \n",
        ">Negates the expression:  \n",
        ">&nbsp;&nbsp;&nbsp; - if the expression is <u>True</u>, `not` turns expression to <u>False</u>  \n",
        ">&nbsp;&nbsp;&nbsp; - if the expression is <u>False</u>, `not` turns the expression to <u>True</u>\n"
      ]
    },
    {
      "cell_type": "code",
      "execution_count": null,
      "metadata": {
        "id": "zbT9vHenvSNM"
      },
      "outputs": [],
      "source": [
        "not True"
      ]
    },
    {
      "cell_type": "code",
      "execution_count": null,
      "metadata": {
        "id": "tv-tN3SNvSNN"
      },
      "outputs": [],
      "source": [
        "not False"
      ]
    },
    {
      "cell_type": "code",
      "execution_count": null,
      "metadata": {
        "id": "Gb61U5WIvSNN"
      },
      "outputs": [],
      "source": [
        "# not False --> True\n",
        "not 10<5"
      ]
    },
    {
      "cell_type": "code",
      "execution_count": null,
      "metadata": {
        "id": "crXzGrcovSNN"
      },
      "outputs": [],
      "source": [
        "# not True --> False\n",
        "~10>5"
      ]
    },
    {
      "cell_type": "markdown",
      "metadata": {
        "id": "7AZ0JnPivSNN"
      },
      "source": [
        "<div class=\"alert alert-warning\">\n",
        "<i class=\"fa fa-info-circle\" style=\"font-size:22px;color:orange\"></i> &nbsp; <u><b>Order of Operations:</b></u><br>\n",
        "    Just like mathematical operations, boolean operations have an order of operations - from highest to lowest priority, the order of evaluation is:<br>  \n",
        "&ensp;&ensp;&ensp;&ensp; <b>NOT</b>, <b>AND</b>, then <b>OR</b>\n",
        "    \n",
        "</div>\n",
        "\n",
        "The expression below is evaluated in the following steps:\n",
        "\n",
        "```\n",
        "(10==1) or ~(10<5) and (4%2==0)\n",
        " False  or ~False  and True     # 1. evaluate inside parentheses first\n",
        " False  or  True   and True     # 2. then NOT (~)\n",
        " False  or  True                # 3. then AND\n",
        " True                          # 4. then OR\n",
        "\n",
        "```"
      ]
    },
    {
      "cell_type": "code",
      "execution_count": null,
      "metadata": {
        "id": "d8eRzdDxvSNN"
      },
      "outputs": [],
      "source": [
        "# evaluates to True\n",
        "(10==1) or ~(10<5) and (4%2==0)"
      ]
    },
    {
      "cell_type": "markdown",
      "metadata": {
        "id": "5vCDYDbsvSNN"
      },
      "source": [
        "<div class=\"alert alert-warning\">\n",
        "<i class=\"fa fa-info-circle\" style=\"font-size:22px;color:orange\"></i> &nbsp; <u><b>Negating \"Or\" / \"And\" Statements:</b></u><br>\n",
        "    Negation has the following effects on AND and OR statements:  <br>\n",
        "    \n",
        "- <b>not (A or B)</b> is equivalent to <b>(not A) AND (not B)</b>  \n",
        "- <b>not (A AND B)</b> is equivalent to <b>(not A) OR (not B)</b>\n",
        "    \n",
        "</div>"
      ]
    },
    {
      "cell_type": "code",
      "execution_count": null,
      "metadata": {
        "id": "B3nHY25QvSNN"
      },
      "outputs": [],
      "source": [
        "# 1a. \"not (A or B)\"\" is the same as saying (not A) and (not B)\"\n",
        "not((10<5) | (4%2==0))"
      ]
    },
    {
      "cell_type": "code",
      "execution_count": null,
      "metadata": {
        "id": "bZ1rwbOFvSNN"
      },
      "outputs": [],
      "source": [
        "# 1b. this is the same as 1a.\n",
        "(not(10<5)) & (not(4%2==0))"
      ]
    },
    {
      "cell_type": "code",
      "execution_count": null,
      "metadata": {
        "id": "Pzg0mk8HvSNO"
      },
      "outputs": [],
      "source": [
        "# 2a. \"not (A and B) is the same as saying \"(not A) OR (not B)\"\n",
        "not((10<5) & (4%2==0))"
      ]
    },
    {
      "cell_type": "code",
      "execution_count": null,
      "metadata": {
        "id": "RrNH5wqavSNO"
      },
      "outputs": [],
      "source": [
        "# 2b. same as 2a\n",
        "(not(10<5)) | (not(4%2==0))"
      ]
    },
    {
      "cell_type": "markdown",
      "metadata": {
        "id": "Lj6b3u4ivSNO"
      },
      "source": [
        "## 6. Conditional Statements<a id='ifs'></a>\n",
        "\n",
        "<i class=\"fa fa-thumb-tack\" style=\"font-size:16px;\"></i>&nbsp; <b>If-Statements</b>\n",
        "\n",
        "Boolean expressions are very useful when writing code, because it lets you determine what course of action to take for a given scenario. One way to do this is by using **if-statements**, which allows you to execute an action <b><u>if</u></b> it meets a certain condition (if the condition evaluates to `True`). If it does not meet the condition - if the condition evaluates to `False` - then it will ignore the instructions for the action altogether, and move on.\n",
        "\n",
        "```python\n",
        "if condition_1: # if condition_1 is true, execute action_1\n",
        "    action_1\n",
        "```\n",
        "\n",
        "Notice that there is a colon `:` at the end of the if-statement, and that the action to be executed is **indented** underneath the statement. The colon completes the \"if-statement\" - it marks the end of the condition it is specifying; and the indentation indicates that everything captured in the indented block underneath the if-statement should **only be executed if the condition is met**. In Python, indentation determines when blocks of code should be run.\n",
        "\n",
        "The example below contains 2 if-statements. 3 actions are coded, but only 2 will be executed. Before running the cell, can you identify which of the 3 phrases will be printed?"
      ]
    },
    {
      "cell_type": "code",
      "execution_count": null,
      "metadata": {
        "id": "YsIecKEJvSNO"
      },
      "outputs": [],
      "source": [
        "# Cost of fruits, from before\n",
        "apple = 0.79\n",
        "lemon = 0.24\n",
        "strawberries = 3.49\n",
        "\n",
        "if apple < 1.00:\n",
        "    print(\"Action 1: What a bargain!\") # action 1\n",
        "\n",
        "if strawberries >= 6.00:\n",
        "    print(\"Action 2: Boy, these are expensive...\") # action 2\n",
        "\n",
        "print(\"Action 3: When will this be printed?\") # action 3"
      ]
    },
    {
      "cell_type": "markdown",
      "metadata": {
        "id": "fajtUVdVvSNO"
      },
      "source": [
        "<div class=\"alert alert-info\"><span style='color:#4169E1'><b>Question:</b> What would happen if we add an indent before the last print statement (\"action 3\"), and re-run the code block? Why?</span></div>"
      ]
    },
    {
      "cell_type": "markdown",
      "metadata": {
        "id": "kxFRuetmvSNP"
      },
      "source": [
        "*Your answer here*"
      ]
    },
    {
      "cell_type": "markdown",
      "metadata": {
        "id": "bPmaVxfyvSNP"
      },
      "source": [
        "<i class=\"fa fa-thumb-tack\" style=\"font-size:16px;\"></i>&nbsp; <b>\"Else if\" & \"Else\" Statements</b>\n",
        "\n",
        "Python will always evaluate an if-statement. However, sometimes we want to evaluate other conditions **only if a prior condition has not been met**. This can be achieved by following an if-statement with an **`elif`** (\"else, if\") and/or **`else`** statements:\n",
        "\n",
        "```python\n",
        "if (condition_1):   # if condition_1 is true, execute action_1\n",
        "    return action_1\n",
        "    \n",
        "elif (condition_2): # \"else, if\": if condition_1 is not true, then if condition_2 is true, execute action_2\n",
        "    return action_2\n",
        "    \n",
        "else:               # all other cases - if neither condition_1 nor condition_2 are true, execute action_3\n",
        "    return action_3\n",
        "```\n",
        "\n",
        "There can be multiple **`elif`** statements after an **`if`**-statement and before an **`else`**-statement, but there can only be one **`else`** statement. In this set-up, once a condition is satisfied, Python will execute each respective action, and ignore all other succeeding conditional statements.\n",
        "\n",
        "<div class=\"alert alert-info\"><span style='color:#4169E1'><b>Question 1:</b>  \n",
        "Let's say a pack of strawberries now cost $6.50. What would you expect the logic from above to output now?</span></div>"
      ]
    },
    {
      "cell_type": "markdown",
      "metadata": {
        "id": "wl22lzP0vSNP"
      },
      "source": [
        "*Your answer here*"
      ]
    },
    {
      "cell_type": "code",
      "execution_count": null,
      "metadata": {
        "id": "VyOVvW2hvSNP"
      },
      "outputs": [],
      "source": [
        "strawberries = 6.50\n",
        "\n",
        "## same code as above\n",
        "if apple < 1.00:\n",
        "    print(\"Action 1: What a bargain!\")\n",
        "\n",
        "if strawberries >= 6.00:\n",
        "    print(\"Action 2: Boy, these are expensive...\")"
      ]
    },
    {
      "cell_type": "markdown",
      "metadata": {
        "id": "G9uBNBtavSNP"
      },
      "source": [
        "<div class=\"alert alert-info\"><span style='color:#4169E1'><b>Question 2:</b>\n",
        "    The code above uses two <code>if</code>-statements. What happens if we change the second <code>if</code> to an <code>elif</code>? Why?</span></div>"
      ]
    },
    {
      "cell_type": "markdown",
      "metadata": {
        "id": "FBbSZyOIvSNP"
      },
      "source": [
        "*Your answer here*"
      ]
    },
    {
      "cell_type": "code",
      "execution_count": null,
      "metadata": {
        "id": "lxEFprrjvSNP"
      },
      "outputs": [],
      "source": [
        "if apple < 1.00:\n",
        "    print(\"Action 1: What a bargain!\")\n",
        "\n",
        "elif strawberries >= 6.00:\n",
        "    print(\"Action 2: Boy, these are expensive...\")"
      ]
    },
    {
      "cell_type": "markdown",
      "metadata": {
        "id": "XJfK0sMXvSNP"
      },
      "source": [
        "---\n",
        "\n",
        "## 7. Defining a Function<a id='func'></a>\n",
        "\n",
        "Functions are useful when you want to repeat a series of steps on multiple different objects, but don't want to type out the steps over and over again. Many functions are built into Python already, as we've already seen in the section on call expressions. In this section, we'll discuss how to **write and name our own functions**.\n",
        "\n",
        "Recall that when we call on a function, we must often provide one or more input values, or **arguments**, for the function to operate on. When we define a function, we need a way to let the function know what to do with which argument. We do this by setting up parameters for the function - **parameters** can be thought of as placeholder variables that are waiting to be assigned values, which happens when the function is called upon with specific arguments.\n",
        "\n",
        "Below is our first example, found in the UC Berkeley [Inferential Thinking](http://www.data8.org/zero-to-data-8/textbook.html) Textbook by Ani Adhikari and John DeNero:\n",
        "\n",
        "  \n",
        ">The definition of the `double` function below simply doubles a number."
      ]
    },
    {
      "cell_type": "code",
      "execution_count": null,
      "metadata": {
        "id": "pbo_qSIgvSNQ"
      },
      "outputs": [],
      "source": [
        "# Our first function definition\n",
        "def double(x):\n",
        "    \"\"\"Double x\"\"\"\n",
        "    return 2*x"
      ]
    },
    {
      "cell_type": "markdown",
      "metadata": {
        "id": "53AxdcSkvSNQ"
      },
      "source": [
        ">We start any function definition by writing `def`. Here is a breakdown of the other parts (the *syntax*) of this small function:\n",
        "\n",
        "<!-- ![function](https://github.com/stefandanielachirei/licenta_2023_Ceica_Sergiu/blob/main/.ipynb_checkpoints/images/img_FunctionDef.PNG?raw=1) -->\n",
        "\n",
        "<img src=\"https://github.com/stefandanielachirei/licenta_2023_Ceica_Sergiu/blob/main/.ipynb_checkpoints/images/img_FunctionDef.PNG?raw=1\" width=\"800\" height=\"800\">\n",
        "\n",
        ">When we run the cell above, no particular number is doubled, and the code inside the body of `double` is not yet evaluated. In this respect, our function is analogous to a *recipe*. Each time we follow the instructions in a recipe, we need to start with ingredients. Each time we want to use our function to double a number, we need to specify a number.<sup>1</sup>\n",
        "\n",
        "---\n",
        "\n",
        "<div class=\"alert alert-info\"><span style='color:#4169E1'><b>You Try!</b>  \n",
        "The following function, `add_two`, has been set up with a more thorough docstring. Fill in the <code>...</code> below with an expression that would satisfy the function's description.</span></div>"
      ]
    },
    {
      "cell_type": "code",
      "execution_count": null,
      "metadata": {
        "id": "vAufZOQovSNQ"
      },
      "outputs": [],
      "source": [
        "def add_two(number):\n",
        "    \"\"\"Adds 2 to the input.\n",
        "\n",
        "    Parameters\n",
        "    ----------\n",
        "    number:\n",
        "        The given number that 2 will be added to.\n",
        "\n",
        "    Returns\n",
        "    -------\n",
        "        A number which is 2 greater than the original input.\n",
        "\n",
        "    Example\n",
        "    -------\n",
        "    >>> add_two(4)\n",
        "    6\n",
        "    \"\"\"\n",
        "    return # ... YOUR CODE HERE"
      ]
    },
    {
      "cell_type": "markdown",
      "metadata": {
        "id": "mPfEk8txvSNQ"
      },
      "source": [
        "Given what you understand from the docstring, what do you think this function does? Run the cells below to test it out:"
      ]
    },
    {
      "cell_type": "code",
      "execution_count": null,
      "metadata": {
        "scrolled": true,
        "id": "_SfwcpVDvSNQ"
      },
      "outputs": [],
      "source": [
        "add_two(3)"
      ]
    },
    {
      "cell_type": "code",
      "execution_count": null,
      "metadata": {
        "id": "DAarW8fqvSNQ"
      },
      "outputs": [],
      "source": [
        "add_two(-1)"
      ]
    },
    {
      "cell_type": "markdown",
      "metadata": {
        "id": "DDd7-Dt3vSNQ"
      },
      "source": [
        "Functions often take advantage of conditional statements to carry out different procedures given different input values. In the example below, where we define our own absolute value function, notice how negative and non-negative arguments are handled differently:"
      ]
    },
    {
      "cell_type": "code",
      "execution_count": null,
      "metadata": {
        "id": "KtnGcljpvSNR"
      },
      "outputs": [],
      "source": [
        "def absolute_value_of(number):\n",
        "    \"\"\"Finds the absolute value of the input.\n",
        "\n",
        "    Parameters\n",
        "    ----------\n",
        "    number:\n",
        "        Input value\n",
        "\n",
        "    Returns\n",
        "    -------\n",
        "        The absolute value of the input number\n",
        "\n",
        "    Example\n",
        "    -------\n",
        "    >>> absolute_value_of(-5)\n",
        "    5\n",
        "    \"\"\"\n",
        "\n",
        "    if number < 0:\n",
        "        number = number * -1\n",
        "\n",
        "    return number"
      ]
    },
    {
      "cell_type": "markdown",
      "metadata": {
        "id": "vFD8u2ggvSNR"
      },
      "source": [
        "## 8. Understanding Errors<a id='error'></a>\n",
        "Python is a language, and like natural human languages, it has rules.  It differs from natural language in two important ways:\n",
        "1. The rules are **simple**.  You can learn most of them in a few weeks and gain reasonable proficiency with the language in just a few months.\n",
        "2. The rules are **rigid**.  If you're proficient in a natural language, you can understand a non-proficient speaker, glossing over small mistakes.  A computer running Python code is **not** smart enough to do that.\n",
        "\n",
        "Whenever you write code, you'll inevitably make mistakes. When you run a code cell that has errors, Python will usually produce error messages to tell you what you did wrong.\n",
        "\n",
        "Errors are okay; even experienced programmers make many errors. When you make an error, you just have to find the source of the problem, fix it, and move on.\n",
        "\n",
        "We have made an error in the next cell. Run it and see what happens."
      ]
    },
    {
      "cell_type": "code",
      "execution_count": null,
      "metadata": {
        "id": "YIZ_M_NBvSNR"
      },
      "outputs": [],
      "source": [
        "print(\"This line is missing something.\""
      ]
    },
    {
      "cell_type": "markdown",
      "metadata": {
        "id": "fgGG65YjvSNR"
      },
      "source": [
        "We can break down the error message as follows:\n",
        "\n",
        "![error](https://github.com/stefandanielachirei/licenta_2023_Ceica_Sergiu/blob/main/.ipynb_checkpoints/images/error.jpg?raw=1)\n",
        "\n",
        "Fix this error in the cell below:"
      ]
    },
    {
      "cell_type": "code",
      "execution_count": null,
      "metadata": {
        "id": "-EgBUEGnvSNR"
      },
      "outputs": [],
      "source": [
        "#Your Answer Here\n",
        "..."
      ]
    },
    {
      "cell_type": "markdown",
      "metadata": {
        "id": "-OhO6wIDvSNR"
      },
      "source": [
        "---\n",
        "\n",
        "**Congratulations!** You have completed the introduction to Jupyter Notebooks tutorial! In the next tutorial, we will use these skills to develop further explore data structures like lists and arrays; and explore statistical concepts like percentiles, histograms, and standard deviations.\n",
        "\n",
        "---\n",
        "\n",
        "\n",
        "#### Content adapted from:  \n",
        "- Jupyter Notebook modules from the [UC Berkeley Data Science Modules Program](https://ds-modules.github.io/DS-Modules/) licensed under [CC BY-NC 4.0](https://creativecommons.org/licenses/by-nc/4.0/)\n",
        "    - [ESPM-163ac: Lab1-Introduction to Jupyter Notebook](https://github.com/ds-modules/ESPM-163ac/blob/master/Lab1/Lab1_Intro_to_Jupyter.ipynb) by Alleana Clark\n",
        "    - [Data 8X Public Materials for 2022](https://github.com/ds-modules/materials-x22/) by Sean Morris\n",
        "- [Composing Programs](https://www.composingprograms.com/) by John DeNero based on the textbook [Structure and Interpretation of Computer Programs](https://mitpress.mit.edu/9780262510875/structure-and-interpretation-of-computer-programs/) by Harold Abelson and Gerald Jay Sussman, licensed under [CC BY-SA 3.0](https://creativecommons.org/licenses/by-sa/3.0/)\n",
        "  \n",
        "\n",
        "#### Citations:\n",
        "\n",
        "\n",
        "1. Ani Adhikari, et al, “8. Functions and Tables,” Computational and Inferential Thinking: The Foundations of Data Science, accessed 15 August 2023, https://inferentialthinking.com/chapters/08/Functions_and_Tables.html.  \n"
      ]
    }
  ],
  "metadata": {
    "anaconda-cloud": {},
    "kernelspec": {
      "display_name": "Python 3 (ipykernel)",
      "language": "python",
      "name": "python3"
    },
    "language_info": {
      "codemirror_mode": {
        "name": "ipython",
        "version": 3
      },
      "file_extension": ".py",
      "mimetype": "text/x-python",
      "name": "python",
      "nbconvert_exporter": "python",
      "pygments_lexer": "ipython3",
      "version": "3.9.7"
    },
    "colab": {
      "provenance": [],
      "include_colab_link": true
    }
  },
  "nbformat": 4,
  "nbformat_minor": 0
}